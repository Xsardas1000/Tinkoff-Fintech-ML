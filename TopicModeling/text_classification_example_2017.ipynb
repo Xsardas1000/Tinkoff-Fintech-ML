{
 "cells": [
  {
   "cell_type": "markdown",
   "metadata": {},
   "source": [
    "# Классификация текстовой информации"
   ]
  },
  {
   "cell_type": "markdown",
   "metadata": {},
   "source": [
    "##Подход на основе bag of words"
   ]
  },
  {
   "cell_type": "code",
   "execution_count": 118,
   "metadata": {
    "collapsed": true
   },
   "outputs": [],
   "source": [
    "# Импорт набора данных из sklearn.datasets\n",
    "\n",
    "from sklearn.datasets import fetch_20newsgroups # Набор данных - посты-обсуждения новостей определенных категорий\n",
    "cat = ['talk.religion.misc','soc.religion.christian'] # Выбираем две категории для классификации\n",
    "# Данные для обучения\n",
    "twenty_train = fetch_20newsgroups(subset='train', categories = cat, shuffle=True, random_state=1\n",
    "                                  ,remove=('headers', 'footers', 'quotes'))\n",
    "# Данне для проверки\n",
    "twenty_test = fetch_20newsgroups(subset='test', categories = cat, shuffle=True, random_state=1\n",
    "                                  ,remove=('headers', 'footers', 'quotes'))"
   ]
  },
  {
   "cell_type": "code",
   "execution_count": 119,
   "metadata": {
    "collapsed": false,
    "scrolled": false
   },
   "outputs": [
    {
     "name": "stdout",
     "output_type": "stream",
     "text": [
      "Text: \n",
      "\n",
      "\n",
      "While I agree with most of Jon says (I deleted those parts, of course), I \n",
      "have serious reservations about this advice.  Maintaining a `just \n",
      "friends' level of relationship is much easier said than done.  People \n",
      "usually end up getting hurt.  This is especially likely to happen when \n",
      "they start off with feelings of attraction.  \n",
      "\n",
      "When people feel attracted those feelings can cloud their judgement.  \n",
      "I've had the experience of going quickly from believing that I shouldn't \n",
      "date non-Christians to believing that dating this man would be okay to \n",
      "believing that premarital sex is fine when people really love each \n",
      "other.  When the relationship ended my beliefs immediately returned to \n",
      "their original state.  \n",
      "\n",
      "This is an especially extreme case because I was young and away from home \n",
      "and fellowship.  I don't think it would work exactly this way for most \n",
      "people.  However, it's important not to underestimate the power of \n",
      "feelings of attraction.  \n",
      "\n",
      "Class: \n",
      "0\n"
     ]
    }
   ],
   "source": [
    "# Кусочек данных\n",
    "\n",
    "print 'Text: \\n' + str(twenty_train.data[0]) + '\\n\\nClass: \\n' + str(twenty_train.target[0])"
   ]
  },
  {
   "cell_type": "code",
   "execution_count": 120,
   "metadata": {
    "collapsed": false
   },
   "outputs": [
    {
     "name": "stdout",
     "output_type": "stream",
     "text": [
      "Train sample size: 976\n",
      "Test sample size: 649\n",
      "Test class 1 share: 0.386270491803\n",
      "Test class 1 share: 0.386748844376\n"
     ]
    }
   ],
   "source": [
    "# Размер обучающей и тестовой выборок\n",
    "print 'Train sample size: ' + str(len(twenty_train.data))\n",
    "print 'Test sample size: ' + str(len(twenty_test.data))\n",
    "# Соотношение классов\n",
    "print 'Test class 1 share: ' + str(sum(twenty_train.target)/float(len(twenty_train.target)))\n",
    "print 'Test class 1 share: ' + str(sum(twenty_test.target)/float(len(twenty_test.target)))"
   ]
  },
  {
   "cell_type": "code",
   "execution_count": 121,
   "metadata": {
    "collapsed": false
   },
   "outputs": [],
   "source": [
    "# Импорт необходимых пакетов\n",
    "import pandas as pd\n",
    "import numpy as np\n",
    "from sklearn.linear_model import LogisticRegression\n",
    "from sklearn.cross_validation import KFold\n",
    "from sklearn.metrics import roc_curve, auc, precision_recall_curve, roc_auc_score"
   ]
  },
  {
   "cell_type": "code",
   "execution_count": 122,
   "metadata": {
    "collapsed": true
   },
   "outputs": [],
   "source": [
    "# Импорт и создание векторайзеров\n",
    "from sklearn.feature_extraction.text import CountVectorizer, TfidfVectorizer\n",
    "vectorizers = {'CountVect': CountVectorizer(binary = False), 'CountVectBin': CountVectorizer(binary = True), 'TFIDFVect': TfidfVectorizer()}"
   ]
  },
  {
   "cell_type": "code",
   "execution_count": 123,
   "metadata": {
    "collapsed": false
   },
   "outputs": [
    {
     "name": "stdout",
     "output_type": "stream",
     "text": [
      "TfidfVectorizer(analyzer=u'word', binary=False, decode_error=u'strict',\n",
      "        dtype=<type 'numpy.int64'>, encoding=u'utf-8', input=u'content',\n",
      "        lowercase=True, max_df=1.0, max_features=None, min_df=1,\n",
      "        ngram_range=(1, 1), norm=u'l2', preprocessor=None, smooth_idf=True,\n",
      "        stop_words=None, strip_accents=None, sublinear_tf=False,\n",
      "        token_pattern=u'(?u)\\\\b\\\\w\\\\w+\\\\b', tokenizer=None, use_idf=True,\n",
      "        vocabulary=None)\n",
      "CountVectorizer(analyzer=u'word', binary=True, decode_error=u'strict',\n",
      "        dtype=<type 'numpy.int64'>, encoding=u'utf-8', input=u'content',\n",
      "        lowercase=True, max_df=1.0, max_features=None, min_df=1,\n",
      "        ngram_range=(1, 1), preprocessor=None, stop_words=None,\n",
      "        strip_accents=None, token_pattern=u'(?u)\\\\b\\\\w\\\\w+\\\\b',\n",
      "        tokenizer=None, vocabulary=None)\n",
      "CountVectorizer(analyzer=u'word', binary=False, decode_error=u'strict',\n",
      "        dtype=<type 'numpy.int64'>, encoding=u'utf-8', input=u'content',\n",
      "        lowercase=True, max_df=1.0, max_features=None, min_df=1,\n",
      "        ngram_range=(1, 1), preprocessor=None, stop_words=None,\n",
      "        strip_accents=None, token_pattern=u'(?u)\\\\b\\\\w\\\\w+\\\\b',\n",
      "        tokenizer=None, vocabulary=None)\n"
     ]
    }
   ],
   "source": [
    "for i in vectorizers:\n",
    "    print vectorizers[i]"
   ]
  },
  {
   "cell_type": "code",
   "execution_count": 124,
   "metadata": {
    "collapsed": false
   },
   "outputs": [],
   "source": [
    "vectorized_text = {}\n",
    "for i in vectorizers:\n",
    "    vectorized_text[i] = vectorizers[i].fit_transform(twenty_train.data)"
   ]
  },
  {
   "cell_type": "code",
   "execution_count": 125,
   "metadata": {
    "collapsed": false
   },
   "outputs": [
    {
     "data": {
      "text/plain": [
       "{'CountVect': <976x15748 sparse matrix of type '<type 'numpy.int64'>'\n",
       " \twith 118763 stored elements in Compressed Sparse Row format>,\n",
       " 'CountVectBin': <976x15748 sparse matrix of type '<type 'numpy.int64'>'\n",
       " \twith 118763 stored elements in Compressed Sparse Row format>,\n",
       " 'TFIDFVect': <976x15748 sparse matrix of type '<type 'numpy.float64'>'\n",
       " \twith 118763 stored elements in Compressed Sparse Row format>}"
      ]
     },
     "execution_count": 125,
     "metadata": {},
     "output_type": "execute_result"
    }
   ],
   "source": [
    "vectorized_text"
   ]
  },
  {
   "cell_type": "code",
   "execution_count": 126,
   "metadata": {
    "collapsed": false
   },
   "outputs": [
    {
     "name": "stdout",
     "output_type": "stream",
     "text": [
      "[[ 1  0  0]\n",
      " [ 0  5  0]\n",
      " [ 0  2  3]\n",
      " [ 7  0 10]]\n",
      "indices = [0 1 1 2 0 2]\n",
      "data = [ 1  5  2  3  7 10]\n",
      "indptr = [0 1 2 4 6]\n"
     ]
    }
   ],
   "source": [
    "# csr_matrix - часто используемый эффективный объект для хранения разреженных матриц\n",
    "# indices  - массив индексов столбцов\n",
    "# data - массив ненулевых элементов матрицы\n",
    "# indptr  - массив указателей на начала новых строк в индексах и данных\n",
    "import scipy.sparse as sps\n",
    "csr_matrix_example = sps.csr_matrix([[1, 0, 0], [0, 5, 0], [0, 2, 3], [7, 0, 10]])\n",
    "print csr_matrix_example.toarray()\n",
    "print 'indices = ' + str(csr_matrix_example.indices)\n",
    "print 'data = ' + str(csr_matrix_example.data)\n",
    "print 'indptr = ' + str(csr_matrix_example.indptr)"
   ]
  },
  {
   "cell_type": "code",
   "execution_count": 127,
   "metadata": {
    "collapsed": true
   },
   "outputs": [],
   "source": [
    "# Переменные с метками классов\n",
    "train_labels = twenty_train.target\n",
    "test_labels = twenty_test.target"
   ]
  },
  {
   "cell_type": "code",
   "execution_count": 128,
   "metadata": {
    "collapsed": true
   },
   "outputs": [],
   "source": [
    "# Функция пересоздания pandas dataframe с результатами кросс-валидации\n",
    "def df_auc_rebuild():\n",
    "    global df_line, df_metrics, df_auc\n",
    "    df_auc = None\n",
    "    df_line = 0\n",
    "    columns = ['C', 'AUC train', 'AUC test']\n",
    "    df_auc = pd.DataFrame(columns=columns)"
   ]
  },
  {
   "cell_type": "code",
   "execution_count": 129,
   "metadata": {
    "collapsed": false
   },
   "outputs": [],
   "source": [
    "# Список значений параметра регуляризации для кросс-валидации\n",
    "C_values = [0.01, 0.05, 0.1, 0.3, 0.5, 1.0, 2.0, 4.0, 6.0, 10.0, 15.0, 20.0, 25.0, 30.0]"
   ]
  },
  {
   "cell_type": "code",
   "execution_count": 130,
   "metadata": {
    "collapsed": true
   },
   "outputs": [],
   "source": [
    "# Pandas dataframe для агрегации AUC различных подходов\n",
    "columns = ['Vectorizer', 'Stemming',  'C', 'CV AUC']\n",
    "df_auc_agg = pd.DataFrame(columns=columns)"
   ]
  },
  {
   "cell_type": "code",
   "execution_count": 131,
   "metadata": {
    "collapsed": false
   },
   "outputs": [],
   "source": [
    "# Функция, выполняющая KFold кросс-валидацию и сохраняющая результаты в pandas dataframe\n",
    "def run_cv(train_data_ind, stemming):\n",
    "    train_data = vectorized_text[train_data_ind]\n",
    "    global df_auc_agg\n",
    "    df_line = 0\n",
    "    df_auc_rebuild()\n",
    "    estimators = []\n",
    "    kf = KFold(n=train_data.shape[0], n_folds=5, shuffle=True, random_state = 1) # Создание индексов для деления данных на 5 частей\n",
    "    for C in C_values:\n",
    "        estimators.append(LogisticRegression(class_weight = 'balanced', penalty = 'l1', C = C))\n",
    "    for train_index, test_index in kf:\n",
    "        x_train = train_data[train_index]\n",
    "        x_test = train_data[test_index]\n",
    "        y_train = [train_labels[x] for x in train_index]\n",
    "        y_test = [train_labels[x] for x in test_index]\n",
    "        for estimator in estimators: # расчет для каждого параметра регуляризации\n",
    "            estimator.fit(x_train, y_train)\n",
    "            prediction_train = estimator.predict_proba(x_train)[:, 1]\n",
    "            prediction_test = estimator.predict_proba(x_test)[:, 1]\n",
    "            auc_train = roc_auc_score(y_train, prediction_train)\n",
    "            auc_test = roc_auc_score(y_test, prediction_test)\n",
    "            cv_stage = [estimator.C, auc_train, auc_test]\n",
    "            df_auc.loc[df_line] = cv_stage\n",
    "            df_line += 1\n",
    "    # Агрегация по параметру регуляризации\n",
    "    tmp_df_agg = df_auc.groupby(['C'], as_index=False).agg({'AUC train': {'mean':'mean','std':'std'}, 'AUC test': {'mean':'mean','std':'std'}})\n",
    "    tmp_df_agg.columns = ['C', 'AUC test std', 'AUC test mean', 'AUC train std', 'AUC train mean'] # переименование колонок\n",
    "    print '\\n'+ train_data_ind + '\\n'\n",
    "    print tmp_df_agg    \n",
    "\n",
    "    df_to_append = tmp_df_agg.sort(('AUC test mean'), ascending=False).head(1) # выбор строки с максимальным AUC\n",
    "    df_to_append = df_to_append[['C', 'AUC test mean']] # выбор только нужных колонок\n",
    "    df_to_append.columns = ['C', 'CV AUC'] # переименование выбранных колонок\n",
    "    df_to_append.insert(0, 'Vectorizer', train_data_ind) # добавление колонок\n",
    "    df_to_append.insert(1, 'Stemming', stemming) # добавление колонок\n",
    "    df_auc_agg = df_auc_agg.append(df_to_append, ignore_index=True) # добавление строки в dataframe с агрегатами"
   ]
  },
  {
   "cell_type": "code",
   "execution_count": 132,
   "metadata": {
    "collapsed": false,
    "scrolled": true
   },
   "outputs": [
    {
     "name": "stdout",
     "output_type": "stream",
     "text": [
      "\n",
      "CountVect\n",
      "\n",
      "        C  AUC test std  AUC test mean  AUC train std  AUC train mean\n",
      "0    0.01      0.041009       0.608715       0.026182        0.632707\n",
      "1    0.05      0.045211       0.681067       0.008323        0.776873\n",
      "2    0.10      0.038808       0.730066       0.007241        0.869345\n",
      "3    0.30      0.026303       0.783787       0.001862        0.964008\n",
      "4    0.50      0.025620       0.792602       0.001337        0.986343\n",
      "5    1.00      0.024440       0.783832       0.000339        0.997488\n",
      "6    2.00      0.022152       0.777302       0.000068        0.999462\n",
      "7    4.00      0.022735       0.777287       0.000052        0.999671\n",
      "8    6.00      0.024718       0.777691       0.000043        0.999681\n",
      "9   10.00      0.027815       0.776048       0.000043        0.999681\n",
      "10  15.00      0.029756       0.774123       0.000043        0.999681\n",
      "11  20.00      0.030960       0.773466       0.000043        0.999681\n",
      "12  25.00      0.031170       0.773185       0.000043        0.999681\n",
      "13  30.00      0.031326       0.772613       0.000043        0.999681\n",
      "\n",
      "CountVectBin\n",
      "\n",
      "        C  AUC test std  AUC test mean  AUC train std  AUC train mean\n",
      "0    0.01      0.000000       0.500000       0.000000        0.500000\n",
      "1    0.05      0.015921       0.640153       0.015438        0.677361\n",
      "2    0.10      0.044942       0.700983       0.016617        0.787264\n",
      "3    0.30      0.052682       0.777088       0.004593        0.934956\n",
      "4    0.50      0.051609       0.788038       0.002606        0.971774\n",
      "5    1.00      0.044446       0.790584       0.000957        0.994260\n",
      "6    2.00      0.038021       0.779408       0.000324        0.998889\n",
      "7    4.00      0.034481       0.771132       0.000036        0.999652\n",
      "8    6.00      0.033420       0.766952       0.000043        0.999681\n",
      "9   10.00      0.032821       0.762490       0.000043        0.999681\n",
      "10  15.00      0.032823       0.760175       0.000043        0.999681\n",
      "11  20.00      0.033227       0.759507       0.000043        0.999681\n",
      "12  25.00      0.033017       0.758976       0.000043        0.999681\n",
      "13  30.00      0.031915       0.758602       0.000043        0.999681\n",
      "\n",
      "TFIDFVect\n",
      "\n",
      "        C  AUC test std  AUC test mean  AUC train std  AUC train mean\n",
      "0    0.01      0.000000       0.500000       0.000000        0.500000\n",
      "1    0.05      0.000000       0.500000       0.000000        0.500000\n",
      "2    0.10      0.000000       0.500000       0.000000        0.500000\n",
      "3    0.30      0.029635       0.602409       0.020070        0.609652\n",
      "4    0.50      0.039017       0.669090       0.005631        0.688568\n",
      "5    1.00      0.034206       0.745721       0.006683        0.797036\n",
      "6    2.00      0.037193       0.793270       0.005433        0.895505\n",
      "7    4.00      0.032231       0.818834       0.001561        0.982484\n",
      "8    6.00      0.033339       0.819383       0.000618        0.997495\n",
      "9   10.00      0.031321       0.816883       0.000109        0.999527\n",
      "10  15.00      0.032065       0.817434       0.000061        0.999670\n",
      "11  20.00      0.032848       0.816634       0.000043        0.999681\n",
      "12  25.00      0.033929       0.815218       0.000043        0.999681\n",
      "13  30.00      0.033516       0.814666       0.000043        0.999681\n"
     ]
    }
   ],
   "source": [
    "for x in vectorized_text:\n",
    "    run_cv(x, stemming = False)"
   ]
  },
  {
   "cell_type": "code",
   "execution_count": 133,
   "metadata": {
    "collapsed": false
   },
   "outputs": [],
   "source": [
    "# Стемминг исходного текста\n",
    "from nltk import PorterStemmer\n",
    "ps = PorterStemmer()\n",
    "import re\n",
    "stemmed_train_text =  [' '.join([ps.stem_word(x) for x in re.findall(r\"[\\w']+\", y)]) for y in twenty_train.data]"
   ]
  },
  {
   "cell_type": "code",
   "execution_count": 134,
   "metadata": {
    "collapsed": true
   },
   "outputs": [],
   "source": [
    "# Словарь векторайзеров для текста после стемминга\n",
    "vectorizers_stem = {'CountVect': CountVectorizer(binary = False), 'CountVectBin': CountVectorizer(binary = True), 'TFIDFVect': TfidfVectorizer()}"
   ]
  },
  {
   "cell_type": "code",
   "execution_count": 135,
   "metadata": {
    "collapsed": true
   },
   "outputs": [],
   "source": [
    "# Векторизация текста со стеммингом\n",
    "vectorized_stemmed_text_train = {}\n",
    "for i in vectorizers_stem:\n",
    "    vectorized_stemmed_text_train[i] = vectorizers_stem[i].fit_transform(stemmed_train_text)"
   ]
  },
  {
   "cell_type": "code",
   "execution_count": 136,
   "metadata": {
    "collapsed": false,
    "scrolled": true
   },
   "outputs": [
    {
     "data": {
      "text/plain": [
       "{'CountVect': <976x11434 sparse matrix of type '<type 'numpy.int64'>'\n",
       " \twith 113159 stored elements in Compressed Sparse Row format>,\n",
       " 'CountVectBin': <976x11434 sparse matrix of type '<type 'numpy.int64'>'\n",
       " \twith 113159 stored elements in Compressed Sparse Row format>,\n",
       " 'TFIDFVect': <976x11434 sparse matrix of type '<type 'numpy.float64'>'\n",
       " \twith 113159 stored elements in Compressed Sparse Row format>}"
      ]
     },
     "execution_count": 136,
     "metadata": {},
     "output_type": "execute_result"
    }
   ],
   "source": [
    "vectorized_stemmed_text_train"
   ]
  },
  {
   "cell_type": "code",
   "execution_count": 137,
   "metadata": {
    "collapsed": false
   },
   "outputs": [
    {
     "name": "stdout",
     "output_type": "stream",
     "text": [
      "\n",
      "CountVect\n",
      "\n",
      "        C  AUC test std  AUC test mean  AUC train std  AUC train mean\n",
      "0    0.01      0.041017       0.608692       0.026181        0.632705\n",
      "1    0.05      0.045211       0.681067       0.008318        0.776872\n",
      "2    0.10      0.038787       0.730089       0.007245        0.869345\n",
      "3    0.30      0.026324       0.783787       0.001857        0.964004\n",
      "4    0.50      0.025597       0.792602       0.001338        0.986342\n",
      "5    1.00      0.024440       0.783832       0.000340        0.997489\n",
      "6    2.00      0.022162       0.777279       0.000068        0.999462\n",
      "7    4.00      0.022827       0.777353       0.000052        0.999671\n",
      "8    6.00      0.024645       0.777783       0.000043        0.999681\n",
      "9   10.00      0.027919       0.775666       0.000043        0.999681\n",
      "10  15.00      0.029754       0.774016       0.000043        0.999681\n",
      "11  20.00      0.031442       0.772895       0.000043        0.999681\n",
      "12  25.00      0.031105       0.773363       0.000043        0.999681\n",
      "13  30.00      0.030496       0.773378       0.000043        0.999681\n",
      "\n",
      "CountVectBin\n",
      "\n",
      "        C  AUC test std  AUC test mean  AUC train std  AUC train mean\n",
      "0    0.01      0.000000       0.500000       0.000000        0.500000\n",
      "1    0.05      0.015921       0.640153       0.015438        0.677361\n",
      "2    0.10      0.045002       0.700982       0.016608        0.787254\n",
      "3    0.30      0.052680       0.777111       0.004589        0.934964\n",
      "4    0.50      0.051652       0.788016       0.002612        0.971771\n",
      "5    1.00      0.044550       0.790720       0.000957        0.994256\n",
      "6    2.00      0.038033       0.779206       0.000324        0.998889\n",
      "7    4.00      0.034293       0.771153       0.000036        0.999652\n",
      "8    6.00      0.033622       0.767065       0.000043        0.999681\n",
      "9   10.00      0.031879       0.762904       0.000043        0.999681\n",
      "10  15.00      0.033057       0.759769       0.000043        0.999681\n",
      "11  20.00      0.033067       0.759530       0.000043        0.999681\n",
      "12  25.00      0.032275       0.759312       0.000043        0.999681\n",
      "13  30.00      0.032059       0.758920       0.000043        0.999681\n",
      "\n",
      "TFIDFVect\n",
      "\n",
      "        C  AUC test std  AUC test mean  AUC train std  AUC train mean\n",
      "0    0.01      0.000000       0.500000       0.000000        0.500000\n",
      "1    0.05      0.000000       0.500000       0.000000        0.500000\n",
      "2    0.10      0.000000       0.500000       0.000000        0.500000\n",
      "3    0.30      0.029635       0.602409       0.020070        0.609653\n",
      "4    0.50      0.038976       0.669046       0.005628        0.688576\n",
      "5    1.00      0.034192       0.745698       0.006686        0.797040\n",
      "6    2.00      0.037193       0.793270       0.005431        0.895504\n",
      "7    4.00      0.032183       0.818965       0.001557        0.982484\n",
      "8    6.00      0.033290       0.819450       0.000618        0.997495\n",
      "9   10.00      0.031215       0.816886       0.000109        0.999527\n",
      "10  15.00      0.031902       0.817305       0.000061        0.999670\n",
      "11  20.00      0.033339       0.816649       0.000043        0.999681\n",
      "12  25.00      0.033686       0.815801       0.000043        0.999681\n",
      "13  30.00      0.033568       0.815051       0.000043        0.999681\n"
     ]
    }
   ],
   "source": [
    "for x in vectorized_stemmed_text_train:\n",
    "    run_cv(x, stemming = True)"
   ]
  },
  {
   "cell_type": "code",
   "execution_count": 138,
   "metadata": {
    "collapsed": false,
    "scrolled": false
   },
   "outputs": [
    {
     "name": "stdout",
     "output_type": "stream",
     "text": [
      "Best models\n"
     ]
    },
    {
     "data": {
      "text/html": [
       "<div>\n",
       "<table border=\"1\" class=\"dataframe\">\n",
       "  <thead>\n",
       "    <tr style=\"text-align: right;\">\n",
       "      <th></th>\n",
       "      <th>Vectorizer</th>\n",
       "      <th>Stemming</th>\n",
       "      <th>C</th>\n",
       "      <th>CV AUC</th>\n",
       "    </tr>\n",
       "  </thead>\n",
       "  <tbody>\n",
       "    <tr>\n",
       "      <th>5</th>\n",
       "      <td>TFIDFVect</td>\n",
       "      <td>True</td>\n",
       "      <td>6.0</td>\n",
       "      <td>0.819450</td>\n",
       "    </tr>\n",
       "    <tr>\n",
       "      <th>2</th>\n",
       "      <td>TFIDFVect</td>\n",
       "      <td>False</td>\n",
       "      <td>6.0</td>\n",
       "      <td>0.819383</td>\n",
       "    </tr>\n",
       "    <tr>\n",
       "      <th>0</th>\n",
       "      <td>CountVect</td>\n",
       "      <td>False</td>\n",
       "      <td>0.5</td>\n",
       "      <td>0.792602</td>\n",
       "    </tr>\n",
       "    <tr>\n",
       "      <th>3</th>\n",
       "      <td>CountVect</td>\n",
       "      <td>True</td>\n",
       "      <td>0.5</td>\n",
       "      <td>0.792602</td>\n",
       "    </tr>\n",
       "    <tr>\n",
       "      <th>4</th>\n",
       "      <td>CountVectBin</td>\n",
       "      <td>True</td>\n",
       "      <td>1.0</td>\n",
       "      <td>0.790720</td>\n",
       "    </tr>\n",
       "    <tr>\n",
       "      <th>1</th>\n",
       "      <td>CountVectBin</td>\n",
       "      <td>False</td>\n",
       "      <td>1.0</td>\n",
       "      <td>0.790584</td>\n",
       "    </tr>\n",
       "  </tbody>\n",
       "</table>\n",
       "</div>"
      ],
      "text/plain": [
       "     Vectorizer Stemming    C    CV AUC\n",
       "5     TFIDFVect     True  6.0  0.819450\n",
       "2     TFIDFVect    False  6.0  0.819383\n",
       "0     CountVect    False  0.5  0.792602\n",
       "3     CountVect     True  0.5  0.792602\n",
       "4  CountVectBin     True  1.0  0.790720\n",
       "1  CountVectBin    False  1.0  0.790584"
      ]
     },
     "execution_count": 138,
     "metadata": {},
     "output_type": "execute_result"
    }
   ],
   "source": [
    "print 'Best models'\n",
    "df_auc_agg.sort(('CV AUC'), ascending=False)"
   ]
  },
  {
   "cell_type": "code",
   "execution_count": 140,
   "metadata": {
    "collapsed": true
   },
   "outputs": [],
   "source": [
    "# Обучение лучшей модели на всей обучающей выборке и расчет AUC на обучающей и тестовой выборках\n",
    "best_model = LogisticRegression(class_weight = 'balanced', penalty = 'l1', C = 6.0).fit(vectorized_stemmed_text_train['TFIDFVect'], train_labels)"
   ]
  },
  {
   "cell_type": "code",
   "execution_count": 141,
   "metadata": {
    "collapsed": false
   },
   "outputs": [
    {
     "name": "stdout",
     "output_type": "stream",
     "text": [
      "Train AUC = 0.997703953982\n"
     ]
    }
   ],
   "source": [
    "train_auc = roc_auc_score(train_labels, best_model.predict_proba(vectorized_stemmed_text_train['TFIDFVect'])[:, 1])\n",
    "print 'Train AUC = ' + str(train_auc)"
   ]
  },
  {
   "cell_type": "code",
   "execution_count": 142,
   "metadata": {
    "collapsed": false
   },
   "outputs": [
    {
     "name": "stdout",
     "output_type": "stream",
     "text": [
      "Test AUC = 0.774264750045\n"
     ]
    }
   ],
   "source": [
    "stemmed_test_text =  [' '.join([ps.stem_word(x) for x in re.findall(r\"[\\w']+\", y)]) for y in twenty_test.data]\n",
    "vectorized_stemmed_text_test = vectorizers_stem['TFIDFVect'].transform(stemmed_test_text)\n",
    "test_auc = roc_auc_score(test_labels, best_model.predict_proba(vectorized_stemmed_text_test)[:, 1])\n",
    "print 'Test AUC = ' + str(test_auc)"
   ]
  },
  {
   "cell_type": "code",
   "execution_count": 143,
   "metadata": {
    "collapsed": false
   },
   "outputs": [
    {
     "name": "stdout",
     "output_type": "stream",
     "text": [
      "Число ненулевых коэффициентов в модели: 347\n"
     ]
    }
   ],
   "source": [
    "print 'Число ненулевых коэффициентов в модели: ' + str(sum(best_model.coef_[0] != 0))"
   ]
  },
  {
   "cell_type": "code",
   "execution_count": 145,
   "metadata": {
    "collapsed": false
   },
   "outputs": [],
   "source": [
    "# Функция для отображения K фич с наибольшими абсолютными значениями коэффициентов\n",
    "def show_topK(classifier, vectorizer, K):\n",
    "    feature_names = np.asarray(vectorizer.get_feature_names())\n",
    "    topK = np.argsort(abs(classifier.coef_[0]))[::-1][:K]\n",
    "    for i in zip(feature_names[topK],classifier.coef_[0][topK]):\n",
    "        print i[0] + '\\t' + str(i[1])"
   ]
  },
  {
   "cell_type": "code",
   "execution_count": 146,
   "metadata": {
    "collapsed": false
   },
   "outputs": [
    {
     "name": "stdout",
     "output_type": "stream",
     "text": [
      "brian\t17.3031161512\n",
      "lds\t16.6843269812\n",
      "our\t-15.9634754765\n",
      "alway\t-15.410267546\n",
      "kent\t14.1991034991\n",
      "order\t13.1810722083\n",
      "muhammad\t12.683270369\n",
      "need\t-11.7835125353\n",
      "clh\t-9.77742208237\n",
      "jame\t-9.60930714041\n",
      "josephu\t9.3403498103\n",
      "becaus\t-9.28153490072\n",
      "mr\t8.95907272571\n",
      "marriag\t-8.63978375204\n",
      "in\t-8.30210524633\n",
      "church\t-8.24936056067\n",
      "revel\t-8.08241306474\n",
      "out\t8.08196182373\n",
      "for\t-8.05760970818\n",
      "666\t7.97527372139\n"
     ]
    }
   ],
   "source": [
    "show_topK(best_model, vectorizers_stem['TFIDFVect'], 20)"
   ]
  },
  {
   "cell_type": "code",
   "execution_count": 148,
   "metadata": {
    "collapsed": false
   },
   "outputs": [
    {
     "data": {
      "image/png": "[encoded data removed]",
      "text/plain": [
       "<matplotlib.figure.Figure at 0x7f5cbfca7ad0>"
      ]
     },
     "metadata": {},
     "output_type": "display_data"
    }
   ],
   "source": [
    "# ROC-кривая на тестовых данных\n",
    "y_scores = best_model.predict_proba(vectorized_stemmed_text_test)[:, 1]\n",
    "false_positive_rate, true_positive_rate, thresholds = roc_curve(test_labels, y_scores)\n",
    "import matplotlib.pyplot as plt\n",
    "%matplotlib inline\n",
    "plt.title('ROC curve')\n",
    "plt.plot(false_positive_rate, true_positive_rate, 'b', label='AUC = %0.2f'% test_auc)\n",
    "plt.legend(loc='lower right')\n",
    "plt.plot([0,1],[0,1],'r--')\n",
    "plt.xlim([-0.05,1.05])\n",
    "plt.ylim([-0.05,1.05])\n",
    "plt.ylabel('True Positive Rate')\n",
    "plt.xlabel('False Positive Rate')\n",
    "plt.show()"
   ]
  },
  {
   "cell_type": "code",
   "execution_count": 149,
   "metadata": {
    "collapsed": false
   },
   "outputs": [
    {
     "data": {
      "image/png": "[encoded data removed]",
      "text/plain": [
       "<matplotlib.figure.Figure at 0x7f5cbb5f8950>"
      ]
     },
     "metadata": {},
     "output_type": "display_data"
    }
   ],
   "source": [
    "# Precision-Recall кривая на тестовых данных\n",
    "# precision = tp / (tp + fp), recall = tp / (tp + fn)\n",
    "precision, recall, thresholds = precision_recall_curve(test_labels, y_scores)\n",
    "plt.title('Precision-Recall curve')\n",
    "plt.plot(recall, precision, label='AUC = %0.2f'% test_auc)\n",
    "plt.xlabel('Recall')\n",
    "plt.ylabel('Precision')\n",
    "plt.xlim([-0.05,1.05])\n",
    "plt.ylim([-0.05,1.05])\n",
    "plt.legend(loc=\"lower right\")\n",
    "plt.show()"
   ]
  },
  {
   "cell_type": "code",
   "execution_count": 150,
   "metadata": {
    "collapsed": true
   },
   "outputs": [],
   "source": [
    "from sklearn.cross_validation import train_test_split\n",
    "x_train, x_test, y_train, y_test = train_test_split(vectorized_text['TFIDFVect'], train_labels, test_size=0.2, random_state=1)"
   ]
  },
  {
   "cell_type": "code",
   "execution_count": 158,
   "metadata": {
    "collapsed": false
   },
   "outputs": [],
   "source": [
    "auc_scores_test = []\n",
    "auc_scores_train = []\n",
    "reg_param = np.arange(0.01,10,0.1)"
   ]
  },
  {
   "cell_type": "code",
   "execution_count": 159,
   "metadata": {
    "collapsed": false
   },
   "outputs": [],
   "source": [
    "for c in reg_param:\n",
    "    model = LogisticRegression(class_weight = 'balanced', penalty = 'l2', C = c).fit(x_train, y_train)\n",
    "    auc_scores_train += [roc_auc_score(y_train, model.predict_proba(x_train)[:,1])]\n",
    "    auc_scores_test += [roc_auc_score(y_test, model.predict_proba(x_test)[:,1])]"
   ]
  },
  {
   "cell_type": "code",
   "execution_count": 165,
   "metadata": {
    "collapsed": false
   },
   "outputs": [
    {
     "data": {
      "image/png": "[encoded data removed]",
      "text/plain": [
       "<matplotlib.figure.Figure at 0x7f5cb4b491d0>"
      ]
     },
     "metadata": {},
     "output_type": "display_data"
    }
   ],
   "source": [
    "plt.title('Regularization')\n",
    "plt.plot(reg_param, auc_scores_train, label = 'Train')\n",
    "plt.plot(reg_param, auc_scores_test, label = 'Test')\n",
    "plt.xlabel('C')\n",
    "plt.ylabel('AUC')\n",
    "plt.xlim([0,10.05])\n",
    "plt.ylim([0.7,1.05])\n",
    "plt.legend(loc=\"lower right\")\n",
    "plt.show()"
   ]
  },
  {
   "cell_type": "markdown",
   "metadata": {
    "collapsed": true
   },
   "source": [
    "##Подход на основе word2vec"
   ]
  },
  {
   "cell_type": "markdown",
   "metadata": {},
   "source": [
    "План действий:\n",
    "    1. Импорт предаврительно обученной w2v модели\n",
    "    2. Построение кластеров по векторам слов\n",
    "    3. Замена слов кластерами, к которыми они принадлежат\n",
    "    4. Обучении классификатора на полученных данных о кластерах"
   ]
  },
  {
   "cell_type": "code",
   "execution_count": 121,
   "metadata": {
    "collapsed": false
   },
   "outputs": [],
   "source": [
    "# Импорт обученной на поисковых запросах Google модели w2v\n",
    "from gensim.models import word2vec\n",
    "w2v_model = word2vec.Word2Vec.load_word2vec_format(\"/home/m.v.surovikov/.ipython/data/google w2v/GoogleNews-vectors-negative300.bin\", binary=True)"
   ]
  },
  {
   "cell_type": "code",
   "execution_count": 122,
   "metadata": {
    "collapsed": false,
    "scrolled": true
   },
   "outputs": [
    {
     "data": {
      "text/plain": [
       "[(u'skyping', 0.6214301586151123),\n",
       " (u'SKYPE', 0.6148898601531982),\n",
       " (u'Gtalk', 0.6096575856208801),\n",
       " (u'MSN_messenger', 0.6021869778633118),\n",
       " (u'GTalk', 0.5990498065948486),\n",
       " (u'gmail', 0.5981154441833496),\n",
       " (u'Skype', 0.5911428928375244),\n",
       " (u'fone', 0.5836682319641113),\n",
       " (u'ichat', 0.5790513157844543),\n",
       " (u'aol', 0.5735843181610107)]"
      ]
     },
     "execution_count": 122,
     "metadata": {},
     "output_type": "execute_result"
    }
   ],
   "source": [
    "# Некоторые возможности модели\n",
    "w2v_model.most_similar('skype')"
   ]
  },
  {
   "cell_type": "code",
   "execution_count": 123,
   "metadata": {
    "collapsed": false
   },
   "outputs": [
    {
     "data": {
      "text/plain": [
       "0.76094570897822089"
      ]
     },
     "execution_count": 123,
     "metadata": {},
     "output_type": "execute_result"
    }
   ],
   "source": [
    "w2v_model.similarity('cat', 'dog')"
   ]
  },
  {
   "cell_type": "code",
   "execution_count": 124,
   "metadata": {
    "collapsed": false
   },
   "outputs": [
    {
     "data": {
      "text/plain": [
       "[(u'queen', 0.7118192315101624)]"
      ]
     },
     "execution_count": 124,
     "metadata": {},
     "output_type": "execute_result"
    }
   ],
   "source": [
    "w2v_model.most_similar(positive=['woman', 'king'], negative=['man'], topn=1)"
   ]
  },
  {
   "cell_type": "code",
   "execution_count": 125,
   "metadata": {
    "collapsed": false
   },
   "outputs": [
    {
     "data": {
      "text/plain": [
       "300"
      ]
     },
     "execution_count": 125,
     "metadata": {},
     "output_type": "execute_result"
    }
   ],
   "source": [
    "# Длина вектора каждого слова\n",
    "len(w2v_model['computer'])"
   ]
  },
  {
   "cell_type": "code",
   "execution_count": 126,
   "metadata": {
    "collapsed": false
   },
   "outputs": [],
   "source": [
    "# Список списокв извлеченных из текстов слов\n",
    "words_train =  [[x for x in re.findall(r\"[\\w']+\", y)] for y in twenty_train.data]\n",
    "\n",
    "words_test =  [[x for x in re.findall(r\"[\\w']+\", y)] for y in twenty_test.data]"
   ]
  },
  {
   "cell_type": "code",
   "execution_count": 127,
   "metadata": {
    "collapsed": false
   },
   "outputs": [],
   "source": [
    "# Объединение всех слов из выборки в один уникальный список\n",
    "unique_words_train = list(set([item for sublist in words_train for item in sublist]))"
   ]
  },
  {
   "cell_type": "code",
   "execution_count": 128,
   "metadata": {
    "collapsed": false
   },
   "outputs": [
    {
     "data": {
      "text/plain": [
       "18887"
      ]
     },
     "execution_count": 128,
     "metadata": {},
     "output_type": "execute_result"
    }
   ],
   "source": [
    "# Число уникальных слова в обучающей выборке\n",
    "len(unique_words_train)"
   ]
  },
  {
   "cell_type": "code",
   "execution_count": 129,
   "metadata": {
    "collapsed": true
   },
   "outputs": [],
   "source": [
    "# Формирование словаря слово - вектор по имеющимся словам\n",
    "word_vectors = {}\n",
    "for x in unique_words_train:\n",
    "    try:\n",
    "        word_vectors[x] = w2v_model[x]\n",
    "    except:\n",
    "        pass"
   ]
  },
  {
   "cell_type": "code",
   "execution_count": 130,
   "metadata": {
    "collapsed": false
   },
   "outputs": [
    {
     "data": {
      "text/plain": [
       "16242"
      ]
     },
     "execution_count": 130,
     "metadata": {},
     "output_type": "execute_result"
    }
   ],
   "source": [
    "# Число слов, для которых нашлись значения в используемой модели\n",
    "len(word_vectors)"
   ]
  },
  {
   "cell_type": "code",
   "execution_count": 131,
   "metadata": {
    "collapsed": false
   },
   "outputs": [],
   "source": [
    "# Обучение Kmeans\n",
    "from sklearn.cluster import KMeans\n",
    "cluster_model = KMeans(n_clusters=200, random_state=1, n_jobs=7).fit(word_vectors.values())"
   ]
  },
  {
   "cell_type": "code",
   "execution_count": 132,
   "metadata": {
    "collapsed": false
   },
   "outputs": [],
   "source": [
    "# Формирование словаря слово - кластер\n",
    "word_x_cluster = dict(zip(word_vectors.keys(), cluster_model.predict(word_vectors.values())))"
   ]
  },
  {
   "cell_type": "code",
   "execution_count": 133,
   "metadata": {
    "collapsed": false
   },
   "outputs": [
    {
     "name": "stdout",
     "output_type": "stream",
     "text": [
      "12\n",
      "12\n"
     ]
    }
   ],
   "source": [
    "# Близкие слова попали в один кластер\n",
    "print word_x_cluster['I']\n",
    "print word_x_cluster['me']"
   ]
  },
  {
   "cell_type": "code",
   "execution_count": 134,
   "metadata": {
    "collapsed": false
   },
   "outputs": [],
   "source": [
    "# Функция, возвращающая кластер по слову\n",
    "def word_to_cluster(word):\n",
    "    res = ''\n",
    "    try:\n",
    "        res = str(word_x_cluster[x])\n",
    "    except:\n",
    "        pass\n",
    "    return res"
   ]
  },
  {
   "cell_type": "code",
   "execution_count": 135,
   "metadata": {
    "collapsed": false
   },
   "outputs": [],
   "source": [
    "w2v_data_train = [' '.join([word_to_cluster(x) for x in y]) for y in words_train]"
   ]
  },
  {
   "cell_type": "code",
   "execution_count": 136,
   "metadata": {
    "collapsed": false
   },
   "outputs": [
    {
     "data": {
      "text/plain": [
       "'195 12 139 91 69  102 65 12 190 63 196  110 12 91 133 192 91 91 158 170  110  91  136 41 110 193 65 193 21 164 69 91 91 27 85 14 41 69 39  80 91 110 110 91 91 155  115 14 164 139 107 63 155 39 114 91  12 49 91 67  110 34 91 75 91 12 12 91 91 123  75 91 93 91 166 39 91 12  75 91 93 93 41 110 91 164 110 28 91 63 14 91 136 49 12 24 91 49  91 91 181 14 41 91 69 133 82 91 12 49 164  91 91 196  9 12 12 139 110 39 78 110 91 110 91 69 164 195 12 184 110  139 91 91  155  115'"
      ]
     },
     "execution_count": 136,
     "metadata": {},
     "output_type": "execute_result"
    }
   ],
   "source": [
    "# Слова заменены на номера кластеров\n",
    "w2v_data_train[0]"
   ]
  },
  {
   "cell_type": "code",
   "execution_count": 137,
   "metadata": {
    "collapsed": false
   },
   "outputs": [],
   "source": [
    "w2v_data_test = [' '.join([word_to_cluster(x) for x in y]) for y in words_test]"
   ]
  },
  {
   "cell_type": "code",
   "execution_count": 138,
   "metadata": {
    "collapsed": false
   },
   "outputs": [],
   "source": [
    "vc = TfidfVectorizer()\n",
    "vectorized_text['Word2Vec'] = vc.fit_transform(w2v_data_train)"
   ]
  },
  {
   "cell_type": "code",
   "execution_count": 139,
   "metadata": {
    "collapsed": false
   },
   "outputs": [
    {
     "name": "stdout",
     "output_type": "stream",
     "text": [
      "\n",
      "Word2Vec\n",
      "\n",
      "        C  AUC test std  AUC test mean  AUC train std  AUC train mean\n",
      "0    0.01      0.000000       0.500000       0.000000        0.500000\n",
      "1    0.05      0.000000       0.500000       0.000000        0.500000\n",
      "2    0.10      0.041566       0.633750       0.010524        0.632500\n",
      "3    0.30      0.041645       0.633933       0.013210        0.636893\n",
      "4    0.50      0.049919       0.681892       0.015044        0.700751\n",
      "5    1.00      0.047434       0.717535       0.010219        0.788482\n",
      "6    2.00      0.035044       0.747811       0.004526        0.851196\n",
      "7    4.00      0.026526       0.754477       0.003265        0.879552\n",
      "8    6.00      0.022125       0.750167       0.002793        0.889980\n",
      "9   10.00      0.017721       0.743028       0.002530        0.897996\n",
      "10  15.00      0.016482       0.737480       0.002871        0.902015\n",
      "11  20.00      0.015192       0.733523       0.003023        0.904333\n",
      "12  25.00      0.015507       0.729934       0.003223        0.905848\n",
      "13  30.00      0.015136       0.727808       0.003509        0.906855\n"
     ]
    }
   ],
   "source": [
    "run_cv('Word2Vec', stemming = False)"
   ]
  },
  {
   "cell_type": "code",
   "execution_count": 141,
   "metadata": {
    "collapsed": false,
    "scrolled": true
   },
   "outputs": [
    {
     "data": {
      "text/html": [
       "<div>\n",
       "<table border=\"1\" class=\"dataframe\">\n",
       "  <thead>\n",
       "    <tr style=\"text-align: right;\">\n",
       "      <th></th>\n",
       "      <th>Vectorizer</th>\n",
       "      <th>Stemming</th>\n",
       "      <th>C</th>\n",
       "      <th>CV AUC</th>\n",
       "    </tr>\n",
       "  </thead>\n",
       "  <tbody>\n",
       "    <tr>\n",
       "      <th>5</th>\n",
       "      <td>TFIDFVect</td>\n",
       "      <td>True</td>\n",
       "      <td>6.0</td>\n",
       "      <td>0.819478</td>\n",
       "    </tr>\n",
       "    <tr>\n",
       "      <th>2</th>\n",
       "      <td>TFIDFVect</td>\n",
       "      <td>False</td>\n",
       "      <td>6.0</td>\n",
       "      <td>0.819478</td>\n",
       "    </tr>\n",
       "    <tr>\n",
       "      <th>3</th>\n",
       "      <td>CountVect</td>\n",
       "      <td>True</td>\n",
       "      <td>0.5</td>\n",
       "      <td>0.793141</td>\n",
       "    </tr>\n",
       "    <tr>\n",
       "      <th>0</th>\n",
       "      <td>CountVect</td>\n",
       "      <td>False</td>\n",
       "      <td>0.5</td>\n",
       "      <td>0.793096</td>\n",
       "    </tr>\n",
       "    <tr>\n",
       "      <th>4</th>\n",
       "      <td>CountVectBin</td>\n",
       "      <td>True</td>\n",
       "      <td>1.0</td>\n",
       "      <td>0.790886</td>\n",
       "    </tr>\n",
       "    <tr>\n",
       "      <th>1</th>\n",
       "      <td>CountVectBin</td>\n",
       "      <td>False</td>\n",
       "      <td>1.0</td>\n",
       "      <td>0.790885</td>\n",
       "    </tr>\n",
       "    <tr>\n",
       "      <th>6</th>\n",
       "      <td>Word2Vec</td>\n",
       "      <td>False</td>\n",
       "      <td>4.0</td>\n",
       "      <td>0.754477</td>\n",
       "    </tr>\n",
       "  </tbody>\n",
       "</table>\n",
       "</div>"
      ],
      "text/plain": [
       "     Vectorizer Stemming    C    CV AUC\n",
       "5     TFIDFVect     True  6.0  0.819478\n",
       "2     TFIDFVect    False  6.0  0.819478\n",
       "3     CountVect     True  0.5  0.793141\n",
       "0     CountVect    False  0.5  0.793096\n",
       "4  CountVectBin     True  1.0  0.790886\n",
       "1  CountVectBin    False  1.0  0.790885\n",
       "6      Word2Vec    False  4.0  0.754477"
      ]
     },
     "execution_count": 141,
     "metadata": {},
     "output_type": "execute_result"
    }
   ],
   "source": [
    "df_auc_agg.sort(('CV AUC'), ascending=False)"
   ]
  },
  {
   "cell_type": "code",
   "execution_count": 145,
   "metadata": {
    "collapsed": true
   },
   "outputs": [],
   "source": [
    "# Обучение лучшей модели на всей обучающей выборке и расчет AUC на обучающей и тестовой выборках\n",
    "best_model_w2v = LogisticRegression(class_weight = 'auto', penalty = 'l1', C = 4.0).fit(vectorized_text['Word2Vec'], train_labels)"
   ]
  },
  {
   "cell_type": "code",
   "execution_count": 147,
   "metadata": {
    "collapsed": false
   },
   "outputs": [
    {
     "name": "stdout",
     "output_type": "stream",
     "text": [
      "Test AUC = 0.695769685079\n"
     ]
    }
   ],
   "source": [
    "vectorized_text_w2v_test = vc.transform(w2v_data_test)\n",
    "test_auc = roc_auc_score(y_labels = test_labels, y_predicted = best_model_w2v.predict_proba(vectorized_text_w2v_test)[:, 1])\n",
    "print 'Test AUC = ' + str(test_auc)"
   ]
  }
 ],
 "metadata": {
  "kernelspec": {
   "display_name": "Python 2",
   "language": "python",
   "name": "python2"
  },
  "language_info": {
   "codemirror_mode": {
    "name": "ipython",
    "version": 2
   },
   "file_extension": ".py",
   "mimetype": "text/x-python",
   "name": "python",
   "nbconvert_exporter": "python",
   "pygments_lexer": "ipython2",
   "version": "2.7.10"
  }
 },
 "nbformat": 4,
 "nbformat_minor": 0
}
