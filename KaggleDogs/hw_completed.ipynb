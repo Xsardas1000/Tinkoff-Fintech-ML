{
 "cells": [
  {
   "cell_type": "markdown",
   "metadata": {},
   "source": [
    "# TFSa17 ML: Deep Learning & CNN "
   ]
  },
  {
   "cell_type": "code",
   "execution_count": 10,
   "metadata": {},
   "outputs": [],
   "source": [
    "import keras"
   ]
  },
  {
   "cell_type": "code",
   "execution_count": 11,
   "metadata": {},
   "outputs": [
    {
     "name": "stdout",
     "output_type": "stream",
     "text": [
      "[name: \"/cpu:0\"\n",
      "device_type: \"CPU\"\n",
      "memory_limit: 268435456\n",
      "locality {\n",
      "}\n",
      "incarnation: 16539635663626995974\n",
      ", name: \"/gpu:0\"\n",
      "device_type: \"GPU\"\n",
      "memory_limit: 11324823962\n",
      "locality {\n",
      "  bus_id: 1\n",
      "}\n",
      "incarnation: 16733805800480116739\n",
      "physical_device_desc: \"device: 0, name: Tesla K80, pci bus id: 0000:00:04.0\"\n",
      "]\n"
     ]
    }
   ],
   "source": [
    "from tensorflow.python.client import device_lib\n",
    "print(device_lib.list_local_devices())"
   ]
  },
  {
   "cell_type": "markdown",
   "metadata": {},
   "source": [
    "Задача этой домашки – понять, как работать с keras и вообще с нейронками.\n",
    "\n",
    "Самая сложная часть этого задания в том, чтобы развернуть все окружение. Вам потребуется видеокарта nvidia с по крайней мере 2Гб памяти. Мануал по облакам выложу отдельно.\n",
    "\n",
    "В качестве фреймворка нейронок будем использовать keras. Keras – это высокоуровневая надстройка над tensorflow. Документация и мануалы живут здесь: https://keras.io/\n",
    "\n",
    "Дедлайн 31 октября в 8:00. К этому моменту нужно получить какие-то результаты на kaggle и прислать тетрадки с решениями в anytask\n",
    "\n",
    "## Задача 1\n",
    "\n",
    "Посчитайте, сколько параметров (весов) в этом слое:"
   ]
  },
  {
   "cell_type": "code",
   "execution_count": null,
   "metadata": {},
   "outputs": [],
   "source": [
    "input_x = keras.layers.Input(shape=(224, 224, 3))\n",
    "x = keras.layers.Conv2D(filters=3, kernel_size=(5, 5), strides=(1, 1), padding='same', use_bias=True)(input_x)\n",
    "# (5 * 5 + 1) * 3 = 228"
   ]
  },
  {
   "cell_type": "markdown",
   "metadata": {},
   "source": [
    "А сколько в этой модели?"
   ]
  },
  {
   "cell_type": "code",
   "execution_count": null,
   "metadata": {},
   "outputs": [],
   "source": [
    "input_x = keras.layers.Input(shape=(224, 224, 3))\n",
    "x = keras.layers.Conv2D(filters=3, kernel_size=(5, 5), strides=(1, 1))(input_x)\n",
    "x = keras.layers.Flatten()(x)\n",
    "output_x = keras.layers.Dense(10)(x)\n",
    "\n",
    "model = keras.models.Model(inputs=input_x, outputs=output_x)"
   ]
  },
  {
   "cell_type": "markdown",
   "metadata": {},
   "source": [
    "Можно просто вызвать `model.summary()`, чтобы посмотреть правильный ответ. Мне же нужно от вас развернутое объяснение, почему ответ именно такой\n",
    "\n"
   ]
  },
  {
   "cell_type": "code",
   "execution_count": null,
   "metadata": {},
   "outputs": [],
   "source": [
    "model.summary()"
   ]
  },
  {
   "cell_type": "raw",
   "metadata": {},
   "source": [
    "Число параметров каждого фильтра - 5 * 5 (weights), общее число параметров слоя Conv2D: \n",
    "5 * 5 * 3 (число фильтров) * 3 (число каналов) + 3 (bias) = 228   \n",
    "Flatten - получаем слой 1 х 1 х 145200 из предыдущего слоя (220*220*3 весов)\n",
    "Dense - полносвязный слой с 10-ю выходными нейронами (число входящих ребер 145200 для каждого нейрона), общее число параметров: 145200 * 10 + 10 (выходные веса)\n",
    "Итого всего весов: 1452000 + 228 + 10 = 1452238"
   ]
  },
  {
   "cell_type": "markdown",
   "metadata": {},
   "source": [
    "# Задача 2\n",
    "\n",
    "Предлагаю порешать вот это соревнование: https://www.kaggle.com/c/dog-breed-identification.\n",
    "Будем определять породу собак по фото.\n",
    "\n",
    "От вас требуется получить более-менее достойное качество, например находиться в первой половине лидерборда. Пожалуйста, в названии команды указывайте <span style='color: red'>(TFS)</span> (это вот тут https://www.kaggle.com/c/dog-breed-identification/team). У вас должен быть ноутбук, где будет:\n",
    "* решение, сделанное руками\n",
    "* решение, где вы дообучаете предобученную на imagenet модель (https://keras.io/applications/)\n",
    "\n",
    "Не важно, какое решение из двух лучше, главное -- это лидерборд и наличие двух моделей в ноутбуке\n",
    "\n",
    "Ниже приведу пример базового решения для MNIST (нет, MNIST зарешивать не будем):"
   ]
  },
  {
   "cell_type": "markdown",
   "metadata": {},
   "source": [
    "### Using pretrained model VGG19"
   ]
  },
  {
   "cell_type": "code",
   "execution_count": 9,
   "metadata": {},
   "outputs": [],
   "source": [
    "import numpy as np # linear algebra\n",
    "import pandas as pd # data processing, CSV file I/O (e.g. pd.read_csv)\n",
    "import keras\n",
    "from keras.applications.vgg19 import VGG19\n",
    "from keras.applications.vgg16 import VGG16\n",
    "\n",
    "from keras.models import Model\n",
    "from keras.layers import Dense, Dropout, Flatten\n",
    "\n",
    "import os\n",
    "from tqdm import tqdm\n",
    "from sklearn import preprocessing\n",
    "from sklearn.model_selection import train_test_split\n",
    "import cv2"
   ]
  },
  {
   "cell_type": "code",
   "execution_count": null,
   "metadata": {},
   "outputs": [],
   "source": [
    "df_train = pd.read_csv('labels.csv')\n",
    "df_test = pd.read_csv('sample_submission.csv')"
   ]
  },
  {
   "cell_type": "code",
   "execution_count": null,
   "metadata": {},
   "outputs": [],
   "source": [
    "df_train.head(10)"
   ]
  },
  {
   "cell_type": "code",
   "execution_count": null,
   "metadata": {},
   "outputs": [],
   "source": [
    "targets_series = pd.Series(df_train['breed'])\n",
    "one_hot = pd.get_dummies(targets_series, sparse = True)"
   ]
  },
  {
   "cell_type": "code",
   "execution_count": null,
   "metadata": {},
   "outputs": [],
   "source": [
    "one_hot_labels = np.asarray(one_hot)"
   ]
  },
  {
   "cell_type": "code",
   "execution_count": null,
   "metadata": {},
   "outputs": [],
   "source": [
    "im_size = 224"
   ]
  },
  {
   "cell_type": "code",
   "execution_count": null,
   "metadata": {},
   "outputs": [],
   "source": [
    "x_train = []\n",
    "y_train = []\n",
    "x_test = []"
   ]
  },
  {
   "cell_type": "code",
   "execution_count": null,
   "metadata": {},
   "outputs": [],
   "source": [
    "i = 0 \n",
    "for f, breed in tqdm(df_train.values):\n",
    "    img = cv2.imread('train/{}.jpg'.format(f))\n",
    "    label = one_hot_labels[i]\n",
    "    x_train.append(cv2.resize(img, (im_size, im_size)))\n",
    "    y_train.append(label)\n",
    "    i += 1"
   ]
  },
  {
   "cell_type": "code",
   "execution_count": null,
   "metadata": {},
   "outputs": [],
   "source": [
    "for f in tqdm(df_test['id'].values):\n",
    "    img = cv2.imread('test/{}.jpg'.format(f))\n",
    "    x_test.append(cv2.resize(img, (im_size, im_size)))"
   ]
  },
  {
   "cell_type": "code",
   "execution_count": null,
   "metadata": {},
   "outputs": [],
   "source": [
    "y_train_raw = np.array(y_train, np.uint8)\n",
    "x_train_raw = np.array(x_train, np.float32) / 255.\n",
    "x_test  = np.array(x_test, np.float32) / 255."
   ]
  },
  {
   "cell_type": "code",
   "execution_count": null,
   "metadata": {},
   "outputs": [],
   "source": [
    "print(x_train_raw.shape)\n",
    "print(y_train_raw.shape)\n",
    "print(x_test.shape)"
   ]
  },
  {
   "cell_type": "code",
   "execution_count": null,
   "metadata": {},
   "outputs": [],
   "source": [
    "num_class = y_train_raw.shape[1]"
   ]
  },
  {
   "cell_type": "code",
   "execution_count": null,
   "metadata": {},
   "outputs": [],
   "source": [
    "X_train, X_valid, Y_train, Y_valid = train_test_split(x_train_raw, y_train_raw, test_size=0.3, random_state=56)"
   ]
  },
  {
   "cell_type": "code",
   "execution_count": null,
   "metadata": {},
   "outputs": [],
   "source": [
    "# Create the base pre-trained model\n",
    "# Can't download weights in the kernel\n",
    "base_model = VGG19(weights='imagenet', include_top=False, input_shape=(im_size, im_size, 3))\n",
    "\n",
    "# Add a new top layer\n",
    "x = base_model.output\n",
    "x = Flatten()(x)\n",
    "predictions = Dense(num_class, activation='softmax')(x)\n",
    "\n",
    "# This is the model we will train\n",
    "model = Model(inputs=base_model.input, outputs=predictions)\n",
    "\n",
    "# First: train only the top layers (which were randomly initialized)\n",
    "for layer in base_model.layers:\n",
    "    layer.trainable = False\n",
    "\n",
    "model.compile(loss='categorical_crossentropy', \n",
    "              optimizer='adam', \n",
    "              metrics=['accuracy'])\n",
    "\n",
    "callbacks_list = [keras.callbacks.EarlyStopping(monitor='val_acc', patience=3, verbose=1)]\n",
    "model.summary()"
   ]
  },
  {
   "cell_type": "code",
   "execution_count": null,
   "metadata": {},
   "outputs": [],
   "source": [
    "model.fit(X_train, Y_train, epochs=10, validation_data=(X_valid, Y_valid), verbose=1, batch_size=32)"
   ]
  },
  {
   "cell_type": "code",
   "execution_count": null,
   "metadata": {},
   "outputs": [],
   "source": [
    "model.fit(X_train, Y_train, epochs=10, validation_data=(X_valid, Y_valid), verbose=1, batch_size=128)"
   ]
  },
  {
   "cell_type": "code",
   "execution_count": null,
   "metadata": {},
   "outputs": [],
   "source": [
    "preds = model.predict(x_test, verbose=1)"
   ]
  },
  {
   "cell_type": "code",
   "execution_count": null,
   "metadata": {},
   "outputs": [],
   "source": [
    "sub = pd.DataFrame(preds)\n",
    "# Set column names to those generated by the one-hot encoding earlier\n",
    "col_names = one_hot.columns.values\n",
    "sub.columns = col_names\n",
    "# Insert the column id from the sample_submission at the start of the data frame\n",
    "sub.insert(0, 'id', df_test['id'])\n",
    "sub.head(5)"
   ]
  },
  {
   "cell_type": "code",
   "execution_count": null,
   "metadata": {},
   "outputs": [],
   "source": [
    "sub.to_csv(\"vgg19_90size.csv\", index=False)"
   ]
  },
  {
   "cell_type": "markdown",
   "metadata": {},
   "source": [
    "### VGG16 + Xception + Inception"
   ]
  },
  {
   "cell_type": "code",
   "execution_count": 7,
   "metadata": {},
   "outputs": [],
   "source": [
    "%matplotlib inline\n",
    "import numpy as np\n",
    "import pandas as pd\n",
    "import datetime as dt\n",
    "import matplotlib.pyplot as plt\n",
    "from mpl_toolkits.axes_grid1 import ImageGrid\n",
    "from os import listdir, makedirs, getcwd, remove\n",
    "from os.path import isfile, join, abspath, exists, isdir, expanduser\n",
    "from tqdm import tqdm\n",
    "from keras.models import Model, Sequential\n",
    "from keras.layers import Input, Flatten, Dense, Conv2D, MaxPooling2D, Dropout\n",
    "from keras.utils import layer_utils\n",
    "from keras import backend as K\n",
    "from keras.optimizers import RMSprop, SGD, Adam\n",
    "from keras.callbacks import EarlyStopping, ReduceLROnPlateau, ModelCheckpoint, TensorBoard, CSVLogger\n",
    "from sklearn.model_selection import train_test_split\n",
    "from sklearn.metrics import log_loss, accuracy_score\n",
    "from keras.preprocessing import image\n",
    "from keras.applications.vgg16 import VGG16\n",
    "from keras.applications.resnet50 import ResNet50\n",
    "from keras.applications import xception\n",
    "from keras.applications import inception_v3\n",
    "from keras.applications.vgg16 import preprocess_input, decode_predictions\n",
    "from keras.preprocessing.image import ImageDataGenerator\n",
    "from sklearn.linear_model import LogisticRegression"
   ]
  },
  {
   "cell_type": "code",
   "execution_count": null,
   "metadata": {},
   "outputs": [],
   "source": [
    "labels = pd.read_csv('labels.csv')"
   ]
  },
  {
   "cell_type": "code",
   "execution_count": null,
   "metadata": {},
   "outputs": [],
   "source": [
    "INPUT_SIZE = 224\n",
    "POOLING = 'avg'\n",
    "vgg_bottleneck = VGG16(weights='imagenet', include_top=False, pooling=POOLING)\n",
    "train_vgg_bf = vgg_bottleneck.predict(X_train, batch_size=32, verbose=1)\n",
    "valid_vgg_bf = vgg_bottleneck.predict(X_valid, batch_size=32, verbose=1)\n",
    "print('VGG train bottleneck features shape: {} size: {:,}'.format(train_vgg_bf.shape, train_vgg_bf.size))\n",
    "print('VGG valid bottleneck features shape: {} size: {:,}'.format(valid_vgg_bf.shape, valid_vgg_bf.size))"
   ]
  },
  {
   "cell_type": "code",
   "execution_count": null,
   "metadata": {},
   "outputs": [],
   "source": [
    "train_vgg_bf.shape"
   ]
  },
  {
   "cell_type": "markdown",
   "metadata": {},
   "source": [
    "#### LogReg on VGG bottleneck features"
   ]
  },
  {
   "cell_type": "code",
   "execution_count": null,
   "metadata": {},
   "outputs": [],
   "source": [
    "from sklearn.linear_model import LogisticRegression\n",
    "from sklearn.metrics import log_loss, accuracy_score\n",
    "from keras.applications import xception\n",
    "from keras.applications import inception_v3\n",
    "from keras.applications.vgg16 import preprocess_input, decode_predictions"
   ]
  },
  {
   "cell_type": "code",
   "execution_count": null,
   "metadata": {},
   "outputs": [],
   "source": [
    "NUM_CLASSES = 120\n",
    "SEED = 50\n",
    "logreg = LogisticRegression(multi_class='multinomial', solver='lbfgs', random_state=SEED)\n",
    "logreg.fit(train_vgg_bf, (Y_train * range(NUM_CLASSES)).sum(axis=1))\n",
    "valid_probs = logreg.predict_proba(valid_vgg_bf)\n",
    "valid_preds = logreg.predict(valid_vgg_bf)"
   ]
  },
  {
   "cell_type": "code",
   "execution_count": null,
   "metadata": {},
   "outputs": [],
   "source": [
    "print('Validation VGG LogLoss {}'.format(log_loss(Y_valid, valid_probs)))\n",
    "print('Validation VGG Accuracy {}'.format(accuracy_score((Y_valid * range(NUM_CLASSES)).sum(axis=1), valid_preds)))"
   ]
  },
  {
   "cell_type": "markdown",
   "metadata": {},
   "source": [
    "#### Extract Xception bottleneck features"
   ]
  },
  {
   "cell_type": "code",
   "execution_count": null,
   "metadata": {},
   "outputs": [],
   "source": [
    "xception_bottleneck = xception.Xception(weights='imagenet', include_top=False, pooling=POOLING)\n",
    "train_x_bf = xception_bottleneck.predict(X_train, batch_size=32, verbose=1)\n",
    "valid_x_bf = xception_bottleneck.predict(X_valid, batch_size=32, verbose=1)\n",
    "print('Xception train bottleneck features shape: {} size: {:,}'.format(train_x_bf.shape, train_x_bf.size))\n",
    "print('Xception valid bottleneck features shape: {} size: {:,}'.format(valid_x_bf.shape, valid_x_bf.size))"
   ]
  },
  {
   "cell_type": "code",
   "execution_count": null,
   "metadata": {},
   "outputs": [],
   "source": [
    "test_x_bf = xception_bottleneck.predict(x_test, batch_size=32, verbose=1)"
   ]
  },
  {
   "cell_type": "code",
   "execution_count": null,
   "metadata": {},
   "outputs": [],
   "source": [
    "test_x_bf.shape"
   ]
  },
  {
   "cell_type": "code",
   "execution_count": null,
   "metadata": {},
   "outputs": [],
   "source": [
    "logreg = LogisticRegression(multi_class='multinomial', solver='lbfgs', random_state=SEED)\n",
    "logreg.fit(train_x_bf, (Y_train * range(NUM_CLASSES)).sum(axis=1))\n",
    "valid_probs = logreg.predict_proba(valid_x_bf)\n",
    "valid_preds = logreg.predict(valid_x_bf)\n",
    "print('Validation Xception LogLoss {}'.format(log_loss(Y_valid, valid_probs)))\n",
    "print('Validation Xception Accuracy {}'.format(accuracy_score((Y_valid * range(NUM_CLASSES)).sum(axis=1), valid_preds)))"
   ]
  },
  {
   "cell_type": "markdown",
   "metadata": {},
   "source": [
    "#### Extract Inception bottleneck features"
   ]
  },
  {
   "cell_type": "code",
   "execution_count": null,
   "metadata": {},
   "outputs": [],
   "source": [
    "inception_bottleneck = inception_v3.InceptionV3(weights='imagenet', include_top=False, pooling=POOLING)\n",
    "train_i_bf = inception_bottleneck.predict(X_train, batch_size=32, verbose=1)\n",
    "valid_i_bf = inception_bottleneck.predict(X_valid, batch_size=32, verbose=1)\n",
    "print('InceptionV3 train bottleneck features shape: {} size: {:,}'.format(train_i_bf.shape, train_i_bf.size))\n",
    "print('InceptionV3 valid bottleneck features shape: {} size: {:,}'.format(valid_i_bf.shape, valid_i_bf.size))"
   ]
  },
  {
   "cell_type": "code",
   "execution_count": null,
   "metadata": {},
   "outputs": [],
   "source": [
    "test_i_bf = inception_bottleneck.predict(x_test, batch_size=32, verbose=1)"
   ]
  },
  {
   "cell_type": "code",
   "execution_count": null,
   "metadata": {},
   "outputs": [],
   "source": [
    "logreg = LogisticRegression(multi_class='multinomial', solver='lbfgs', random_state=SEED)\n",
    "logreg.fit(train_i_bf, (Y_train * range(NUM_CLASSES)).sum(axis=1))\n",
    "valid_probs = logreg.predict_proba(valid_i_bf)\n",
    "valid_preds = logreg.predict(valid_i_bf)"
   ]
  },
  {
   "cell_type": "code",
   "execution_count": null,
   "metadata": {},
   "outputs": [],
   "source": [
    "print('Validation Inception LogLoss {}'.format(log_loss(Y_valid, valid_probs)))\n",
    "print('Validation Inception Accuracy {}'.format(accuracy_score((Y_valid * range(NUM_CLASSES)).sum(axis=1), valid_preds)))"
   ]
  },
  {
   "cell_type": "markdown",
   "metadata": {},
   "source": [
    "#### LogReg on all bottleneck features"
   ]
  },
  {
   "cell_type": "code",
   "execution_count": null,
   "metadata": {},
   "outputs": [],
   "source": [
    "X = np.hstack([train_x_bf, train_i_bf])\n",
    "V = np.hstack([valid_x_bf, valid_i_bf])\n",
    "print('Full train bottleneck features shape: {} size: {:,}'.format(X.shape, X.size))\n",
    "print('Full valid bottleneck features shape: {} size: {:,}'.format(V.shape, V.size))\n",
    "logreg = LogisticRegression(multi_class='multinomial', solver='lbfgs', random_state=SEED)\n",
    "logreg.fit(X, (Y_train * range(NUM_CLASSES)).sum(axis=1))\n",
    "train_probs = logreg.predict_proba(X)\n",
    "train_preds = logreg.predict_proba(X)\n",
    "valid_probs = logreg.predict_proba(V)\n",
    "valid_preds = logreg.predict(V)\n",
    "print('Train Xception + Inception LogLoss {}'.format(log_loss(Y_valid, valid_probs)))\n",
    "print('Train Xception + Inception LogLoss {}'.format(log_loss(Y_valid, valid_probs)))\n",
    "\n",
    "print('Validation Xception + Inception LogLoss {}'.format(log_loss(Y_valid, valid_probs)))\n",
    "print('Validation Xception + Inception Accuracy {}'.format(accuracy_score((Y_valid * range(NUM_CLASSES)).sum(axis=1), valid_preds)))"
   ]
  },
  {
   "cell_type": "code",
   "execution_count": null,
   "metadata": {},
   "outputs": [],
   "source": [
    "SEED = 50\n",
    "T = np.hstack([test_x_bf, test_i_bf])\n",
    "preds = logreg.predict_proba(T)"
   ]
  },
  {
   "cell_type": "code",
   "execution_count": null,
   "metadata": {},
   "outputs": [],
   "source": []
  },
  {
   "cell_type": "code",
   "execution_count": null,
   "metadata": {},
   "outputs": [],
   "source": [
    "sub = pd.DataFrame(preds)\n",
    "# Set column names to those generated by the one-hot encoding earlier\n",
    "col_names = one_hot.columns.values\n",
    "sub.columns = col_names\n",
    "# Insert the column id from the sample_submission at the start of the data frame\n",
    "sub.insert(0, 'id', df_test['id'])\n",
    "sub.head(5)"
   ]
  },
  {
   "cell_type": "code",
   "execution_count": null,
   "metadata": {},
   "outputs": [],
   "source": [
    "sub.to_csv(\"xception_inception.csv\", index=False)"
   ]
  },
  {
   "cell_type": "markdown",
   "metadata": {},
   "source": [
    "#### Use Xception and Inception features in NN"
   ]
  },
  {
   "cell_type": "code",
   "execution_count": 17,
   "metadata": {},
   "outputs": [],
   "source": [
    "from keras.layers import *\n",
    "from keras.models import *\n",
    "from keras.applications import *\n",
    "from keras.optimizers import *\n",
    "from keras.regularizers import *\n",
    "from keras.applications.inception_v3 import preprocess_input\n",
    "import pandas as pd"
   ]
  },
  {
   "cell_type": "code",
   "execution_count": 4,
   "metadata": {},
   "outputs": [
    {
     "data": {
      "text/html": [
       "<div>\n",
       "<style>\n",
       "    .dataframe thead tr:only-child th {\n",
       "        text-align: right;\n",
       "    }\n",
       "\n",
       "    .dataframe thead th {\n",
       "        text-align: left;\n",
       "    }\n",
       "\n",
       "    .dataframe tbody tr th {\n",
       "        vertical-align: top;\n",
       "    }\n",
       "</style>\n",
       "<table border=\"1\" class=\"dataframe\">\n",
       "  <thead>\n",
       "    <tr style=\"text-align: right;\">\n",
       "      <th></th>\n",
       "      <th>id</th>\n",
       "      <th>breed</th>\n",
       "    </tr>\n",
       "  </thead>\n",
       "  <tbody>\n",
       "    <tr>\n",
       "      <th>0</th>\n",
       "      <td>000bec180eb18c7604dcecc8fe0dba07</td>\n",
       "      <td>boston_bull</td>\n",
       "    </tr>\n",
       "    <tr>\n",
       "      <th>1</th>\n",
       "      <td>001513dfcb2ffafc82cccf4d8bbaba97</td>\n",
       "      <td>dingo</td>\n",
       "    </tr>\n",
       "    <tr>\n",
       "      <th>2</th>\n",
       "      <td>001cdf01b096e06d78e9e5112d419397</td>\n",
       "      <td>pekinese</td>\n",
       "    </tr>\n",
       "    <tr>\n",
       "      <th>3</th>\n",
       "      <td>00214f311d5d2247d5dfe4fe24b2303d</td>\n",
       "      <td>bluetick</td>\n",
       "    </tr>\n",
       "    <tr>\n",
       "      <th>4</th>\n",
       "      <td>0021f9ceb3235effd7fcde7f7538ed62</td>\n",
       "      <td>golden_retriever</td>\n",
       "    </tr>\n",
       "  </tbody>\n",
       "</table>\n",
       "</div>"
      ],
      "text/plain": [
       "                                 id             breed\n",
       "0  000bec180eb18c7604dcecc8fe0dba07       boston_bull\n",
       "1  001513dfcb2ffafc82cccf4d8bbaba97             dingo\n",
       "2  001cdf01b096e06d78e9e5112d419397          pekinese\n",
       "3  00214f311d5d2247d5dfe4fe24b2303d          bluetick\n",
       "4  0021f9ceb3235effd7fcde7f7538ed62  golden_retriever"
      ]
     },
     "execution_count": 4,
     "metadata": {},
     "output_type": "execute_result"
    }
   ],
   "source": [
    "df = pd.read_csv('labels.csv')\n",
    "df.head()"
   ]
  },
  {
   "cell_type": "code",
   "execution_count": 5,
   "metadata": {},
   "outputs": [],
   "source": [
    "n = len(df)\n",
    "breed = set(df['breed'])\n",
    "n_class = len(breed)\n",
    "class_to_num = dict(zip(breed, range(n_class)))\n",
    "num_to_class = dict(zip(range(n_class), breed))"
   ]
  },
  {
   "cell_type": "code",
   "execution_count": 12,
   "metadata": {},
   "outputs": [
    {
     "name": "stderr",
     "output_type": "stream",
     "text": [
      "100%|██████████| 10222/10222 [00:31<00:00, 325.75it/s]\n"
     ]
    }
   ],
   "source": [
    "width = 299\n",
    "X = np.zeros((n, width, width, 3), dtype=np.uint8)\n",
    "y = np.zeros((n, n_class), dtype=np.uint8)\n",
    "for i in tqdm(range(n)):\n",
    "    X[i] = cv2.resize(cv2.imread('train/%s.jpg' % df['id'][i]), (width, width))\n",
    "    y[i][class_to_num[df['breed'][i]]] = 1"
   ]
  },
  {
   "cell_type": "code",
   "execution_count": 18,
   "metadata": {},
   "outputs": [],
   "source": [
    "def get_features(MODEL, data=X):\n",
    "    cnn_model = MODEL(include_top=False, input_shape=(width, width, 3), weights='imagenet')\n",
    "    \n",
    "    inputs = Input((width, width, 3))\n",
    "    x = inputs\n",
    "    x = Lambda(preprocess_input, name='preprocessing')(x)\n",
    "    x = cnn_model(x)\n",
    "    x = GlobalAveragePooling2D()(x)\n",
    "    cnn_model = Model(inputs, x)\n",
    "\n",
    "    features = cnn_model.predict(data, batch_size=64, verbose=1)\n",
    "    return features"
   ]
  },
  {
   "cell_type": "code",
   "execution_count": 19,
   "metadata": {},
   "outputs": [
    {
     "name": "stdout",
     "output_type": "stream",
     "text": [
      "10222/10222 [==============================] - 150s   \n",
      "10222/10222 [==============================] - 216s   \n"
     ]
    }
   ],
   "source": [
    "inception_features = get_features(InceptionV3, X)\n",
    "xception_features = get_features(Xception, X)\n",
    "features = np.concatenate([inception_features, xception_features], axis=-1)"
   ]
  },
  {
   "cell_type": "code",
   "execution_count": 24,
   "metadata": {},
   "outputs": [
    {
     "name": "stdout",
     "output_type": "stream",
     "text": [
      "Train on 9199 samples, validate on 1023 samples\n",
      "Epoch 1/20\n",
      "9199/9199 [==============================] - 0s - loss: 2.4388 - acc: 0.5052 - val_loss: 0.8964 - val_acc: 0.8113\n",
      "Epoch 2/20\n",
      "9199/9199 [==============================] - 0s - loss: 0.6985 - acc: 0.8204 - val_loss: 0.5990 - val_acc: 0.8358\n",
      "Epoch 3/20\n",
      "9199/9199 [==============================] - 0s - loss: 0.5145 - acc: 0.8575 - val_loss: 0.5266 - val_acc: 0.8446\n",
      "Epoch 4/20\n",
      "9199/9199 [==============================] - 0s - loss: 0.4267 - acc: 0.8824 - val_loss: 0.4989 - val_acc: 0.8534\n",
      "Epoch 5/20\n",
      "9199/9199 [==============================] - 0s - loss: 0.3728 - acc: 0.8981 - val_loss: 0.4752 - val_acc: 0.8524\n",
      "Epoch 6/20\n",
      "9199/9199 [==============================] - 0s - loss: 0.3233 - acc: 0.9086 - val_loss: 0.4595 - val_acc: 0.8524\n",
      "Epoch 7/20\n",
      "9199/9199 [==============================] - 0s - loss: 0.2872 - acc: 0.9209 - val_loss: 0.4505 - val_acc: 0.8553\n",
      "Epoch 8/20\n",
      "9199/9199 [==============================] - 0s - loss: 0.2582 - acc: 0.9308 - val_loss: 0.4490 - val_acc: 0.8583\n",
      "Epoch 9/20\n",
      "9199/9199 [==============================] - 0s - loss: 0.2333 - acc: 0.9390 - val_loss: 0.4438 - val_acc: 0.8651\n",
      "Epoch 10/20\n",
      "9199/9199 [==============================] - 0s - loss: 0.2110 - acc: 0.9481 - val_loss: 0.4439 - val_acc: 0.8671\n",
      "Epoch 11/20\n",
      "9199/9199 [==============================] - 0s - loss: 0.1956 - acc: 0.9510 - val_loss: 0.4412 - val_acc: 0.8583\n",
      "Epoch 12/20\n",
      "9199/9199 [==============================] - 0s - loss: 0.1838 - acc: 0.9534 - val_loss: 0.4429 - val_acc: 0.8622\n",
      "Epoch 13/20\n",
      "9199/9199 [==============================] - 0s - loss: 0.1648 - acc: 0.9613 - val_loss: 0.4408 - val_acc: 0.8592\n",
      "Epoch 14/20\n",
      "9199/9199 [==============================] - 0s - loss: 0.1538 - acc: 0.9649 - val_loss: 0.4427 - val_acc: 0.8563\n",
      "Epoch 15/20\n",
      "9199/9199 [==============================] - 0s - loss: 0.1441 - acc: 0.9683 - val_loss: 0.4278 - val_acc: 0.8631\n",
      "Epoch 16/20\n",
      "9199/9199 [==============================] - 0s - loss: 0.1337 - acc: 0.9715 - val_loss: 0.4397 - val_acc: 0.8602\n",
      "Epoch 17/20\n",
      "9199/9199 [==============================] - 0s - loss: 0.1275 - acc: 0.9709 - val_loss: 0.4388 - val_acc: 0.8631\n",
      "Epoch 18/20\n",
      "9199/9199 [==============================] - 0s - loss: 0.1188 - acc: 0.9726 - val_loss: 0.4399 - val_acc: 0.8631\n",
      "Epoch 19/20\n",
      "9199/9199 [==============================] - 0s - loss: 0.1113 - acc: 0.9767 - val_loss: 0.4435 - val_acc: 0.8661\n",
      "Epoch 20/20\n",
      "9199/9199 [==============================] - 0s - loss: 0.1032 - acc: 0.9802 - val_loss: 0.4387 - val_acc: 0.8631\n"
     ]
    }
   ],
   "source": [
    "inputs = Input(features.shape[1:])\n",
    "x = inputs\n",
    "x = Dropout(0.5)(x)\n",
    "x = Dense(n_class, activation='softmax')(x)\n",
    "model = Model(inputs, x)\n",
    "model.compile(optimizer='adam',\n",
    "              loss='categorical_crossentropy',\n",
    "              metrics=['accuracy'])\n",
    "h = model.fit(features, y, batch_size=256, epochs=20, validation_split=0.1)"
   ]
  },
  {
   "cell_type": "code",
   "execution_count": 13,
   "metadata": {},
   "outputs": [],
   "source": [
    "from keras.preprocessing.image import ImageDataGenerator # data augmentation"
   ]
  },
  {
   "cell_type": "markdown",
   "metadata": {},
   "source": [
    "#### Визуализация"
   ]
  },
  {
   "cell_type": "code",
   "execution_count": 25,
   "metadata": {},
   "outputs": [
    {
     "data": {
      "text/plain": [
       "Text(0.5,0,'epoch')"
      ]
     },
     "execution_count": 25,
     "metadata": {},
     "output_type": "execute_result"
    },
    {
     "data": {
      "image/png": "[encoded data removed]",
      "text/plain": [
       "<matplotlib.figure.Figure at 0x7fbcb6595668>"
      ]
     },
     "metadata": {
      "image/png": {
       "height": 263,
       "width": 610
      }
     },
     "output_type": "display_data"
    }
   ],
   "source": [
    "import matplotlib.pyplot as plt\n",
    "\n",
    "%matplotlib inline\n",
    "%config InlineBackend.figure_format = 'retina'\n",
    "\n",
    "plt.figure(figsize=(10, 4))\n",
    "plt.subplot(1, 2, 1)\n",
    "plt.plot(h.history['loss'])\n",
    "plt.plot(h.history['val_loss'])\n",
    "plt.legend(['loss', 'val_loss'])\n",
    "plt.ylabel('loss')\n",
    "plt.xlabel('epoch')\n",
    "\n",
    "plt.subplot(1, 2, 2)\n",
    "plt.plot(h.history['acc'])\n",
    "plt.plot(h.history['val_acc'])\n",
    "plt.legend(['acc', 'val_acc'])\n",
    "plt.ylabel('acc')\n",
    "plt.xlabel('epoch')"
   ]
  },
  {
   "cell_type": "code",
   "execution_count": 26,
   "metadata": {},
   "outputs": [],
   "source": [
    "df2 = pd.read_csv('sample_submission.csv')"
   ]
  },
  {
   "cell_type": "code",
   "execution_count": 27,
   "metadata": {},
   "outputs": [
    {
     "name": "stderr",
     "output_type": "stream",
     "text": [
      "100%|██████████| 10357/10357 [00:26<00:00, 386.89it/s]\n"
     ]
    }
   ],
   "source": [
    "n_test = len(df2)\n",
    "X_test = np.zeros((n_test, width, width, 3), dtype=np.uint8)\n",
    "for i in tqdm(range(n_test)):\n",
    "    X_test[i] = cv2.resize(cv2.imread('test/%s.jpg' % df2['id'][i]), (width, width))"
   ]
  },
  {
   "cell_type": "code",
   "execution_count": 28,
   "metadata": {},
   "outputs": [
    {
     "name": "stdout",
     "output_type": "stream",
     "text": [
      "10357/10357 [==============================] - 150s   \n",
      "10357/10357 [==============================] - 219s   \n"
     ]
    }
   ],
   "source": [
    "inception_features = get_features(InceptionV3, X_test)\n",
    "xception_features = get_features(Xception, X_test)\n",
    "features_test = np.concatenate([inception_features, xception_features], axis=-1)"
   ]
  },
  {
   "cell_type": "code",
   "execution_count": 29,
   "metadata": {},
   "outputs": [],
   "source": [
    "y_pred = model.predict(features_test, batch_size=128)"
   ]
  },
  {
   "cell_type": "code",
   "execution_count": 30,
   "metadata": {},
   "outputs": [],
   "source": [
    "for b in breed:\n",
    "    df2[b] = y_pred[:,class_to_num[b]]"
   ]
  },
  {
   "cell_type": "code",
   "execution_count": 31,
   "metadata": {},
   "outputs": [],
   "source": [
    "df2.to_csv('preds_xcep_incep_nn.csv', index=None)"
   ]
  },
  {
   "cell_type": "code",
   "execution_count": null,
   "metadata": {},
   "outputs": [],
   "source": []
  },
  {
   "cell_type": "markdown",
   "metadata": {},
   "source": [
    "### Custom CNN"
   ]
  },
  {
   "cell_type": "code",
   "execution_count": null,
   "metadata": {},
   "outputs": [],
   "source": [
    "import matplotlib.pyplot as plt # for seeing the images\n",
    "%matplotlib inline\n",
    "import cv2 # for image processing\n",
    "import glob # for file handling\n",
    "import numpy as np # linear algebra\n",
    "import pandas as pd # data processing, CSV file I/O (e.g. pd.read_csv)\n",
    "from subprocess import check_output # to get the files in currect folder\n",
    "from keras.utils import to_categorical # to convert to one-hot encodings\n",
    "import tqdm # progress bar\n",
    "from collections import Counter # for getting breed data\n",
    "\n",
    "# Importing ML Dependencies\n",
    "from keras.layers import Conv2D, MaxPooling2D, GlobalAveragePooling2D\n",
    "from keras.layers import Dropout, Flatten, Dense\n",
    "from keras.models import Sequential"
   ]
  },
  {
   "cell_type": "markdown",
   "metadata": {},
   "source": [
    "####  Custom CNN 1"
   ]
  },
  {
   "cell_type": "code",
   "execution_count": null,
   "metadata": {},
   "outputs": [],
   "source": [
    "NUM_CLASSES = 120\n",
    "model = Sequential()\n",
    "model.add(Conv2D(filters = 16, kernel_size = (2,2), padding = 'same',\n",
    "                 activation = 'relu', input_shape = (224, 224, 3)))\n",
    "model.add(MaxPooling2D(pool_size=(2,2)))\n",
    "model.add(Conv2D(filters = 32, kernel_size = (2,2), padding = 'same', activation = 'relu'))\n",
    "model.add(MaxPooling2D(pool_size=(2,2)))\n",
    "model.add(Conv2D(filters = 64, kernel_size = (2,2), padding = 'same', activation = 'relu'))\n",
    "model.add(MaxPooling2D(pool_size=(2,2)))\n",
    "model.add(Dropout(0.3))\n",
    "model.add(Flatten())\n",
    "model.add(Dense(1024, activation = 'relu'))\n",
    "model.add(Dropout(0.4))\n",
    "model.add(Dense(NUM_CLASSES, activation = 'softmax'))\n",
    "\n",
    "print(model.summary())"
   ]
  },
  {
   "cell_type": "code",
   "execution_count": null,
   "metadata": {},
   "outputs": [],
   "source": [
    "# Compiling the model\n",
    "model.compile(optimizer='adam', loss='categorical_crossentropy', metrics=['accuracy'])"
   ]
  },
  {
   "cell_type": "code",
   "execution_count": null,
   "metadata": {},
   "outputs": [],
   "source": [
    "callbacks_list = [keras.callbacks.EarlyStopping(monitor='val_acc', patience=3, verbose=1)]"
   ]
  },
  {
   "cell_type": "code",
   "execution_count": null,
   "metadata": {},
   "outputs": [],
   "source": [
    "model.fit(X_train, Y_train, epochs=10, validation_data=(X_valid, Y_valid), verbose=1, batch_size=128)"
   ]
  },
  {
   "cell_type": "code",
   "execution_count": null,
   "metadata": {},
   "outputs": [],
   "source": [
    "predicted = model.predict_proba(total_images_test, batch_size=64)"
   ]
  },
  {
   "cell_type": "code",
   "execution_count": null,
   "metadata": {},
   "outputs": [],
   "source": [
    "predicted_df = pd.DataFrame(predicted, columns=['id'].append(test_submission.columns), index=test_image_names)\n",
    "predicted_df.head()"
   ]
  },
  {
   "cell_type": "code",
   "execution_count": null,
   "metadata": {},
   "outputs": [],
   "source": [
    "predicted_df.describe()"
   ]
  },
  {
   "cell_type": "code",
   "execution_count": null,
   "metadata": {},
   "outputs": [],
   "source": [
    "predicted_df.to_csv('custom1.csv',sep=',')"
   ]
  },
  {
   "cell_type": "markdown",
   "metadata": {},
   "source": [
    "## MNIST\n",
    "\n",
    "Вот пример базового варианта сетки, которая будет классифицировать MNIST"
   ]
  },
  {
   "cell_type": "code",
   "execution_count": null,
   "metadata": {},
   "outputs": [],
   "source": [
    "import numpy as np\n",
    "import matplotlib.pyplot as plt\n",
    "%matplotlib inline\n",
    "\n",
    "from keras.datasets import mnist\n",
    "from keras.models import Sequential\n",
    "from keras.layers import Dense, Dropout, Flatten\n",
    "from keras.layers import Conv2D, MaxPooling2D\n",
    "from keras import backend as K"
   ]
  },
  {
   "cell_type": "code",
   "execution_count": null,
   "metadata": {},
   "outputs": [],
   "source": [
    "# скачиваем данные\n",
    "(x_train, y_train), (x_test, y_test) = mnist.load_data()\n",
    "print(x_train.shape) # размер train датасета -- 60к черно-белых картинок размером 28x28\n",
    "plt.imshow(x_train[0], cmap='gray') # посмотрим на одну из картинок"
   ]
  },
  {
   "cell_type": "code",
   "execution_count": null,
   "metadata": {},
   "outputs": [],
   "source": [
    "batch_size = 128 # это количество картинок, по которым происходит один проход по нейронке, а потом -- один шаг в сторону антиградиента \n",
    "num_classes = 10 # количество классов == количество цифр\n",
    "epochs = 12 # эпоха -- это один обход всего датасета. здесь для обучения мы прогоняем всю выборку 12 раз \n",
    "img_rows, img_cols = 28, 28 # размер картинок"
   ]
  },
  {
   "cell_type": "code",
   "execution_count": null,
   "metadata": {},
   "outputs": [],
   "source": [
    "p = x_train.reshape(x_train.shape[0], img_rows, img_cols, 1)\n",
    "p.shape"
   ]
  },
  {
   "cell_type": "code",
   "execution_count": null,
   "metadata": {},
   "outputs": [],
   "source": [
    "p[0].shape"
   ]
  },
  {
   "cell_type": "code",
   "execution_count": null,
   "metadata": {},
   "outputs": [],
   "source": [
    "# есть два подхода к порядку размерностей тензора:\n",
    "# как у theano (channels_first): [objects, channels, rows, cols]\n",
    "# как у tensorflow (channels_last): [objects, rows, cols, channels]\n",
    "# этот порядок задается в keras.json (https://keras.io/backend/#kerasjson-details)\n",
    "# по дефолту все стоит для tensorflow и скорее всего ничего менять не надо\n",
    "\n",
    "# в датасете MNIST размерность 3 (objects, rows, cols), так как у черно-белых картинок один канал.\n",
    "# Нужно привести матрицы к виду [objects, rows, cols, channels]\n",
    "x_train = x_train.reshape(x_train.shape[0], img_rows, img_cols, 1)\n",
    "x_test = x_test.reshape(x_test.shape[0], img_rows, img_cols, 1)\n",
    "input_shape = (img_rows, img_cols, 1)\n",
    "\n",
    "# картинки обычно 24битные, по 8 бит на канал, то есть для каждого канала цвет имеет интенсивность от 0 до 255.\n",
    "# приведем интенсивности пикселей в [0, 1]\n",
    "x_train = x_train.astype('float32')\n",
    "x_test = x_test.astype('float32')\n",
    "x_train /= 255 \n",
    "x_test /= 255\n",
    "print('x_train shape:', x_train.shape)\n",
    "print(x_train.shape[0], 'train samples')\n",
    "print(x_test.shape[0], 'test samples')\n",
    "\n",
    "# мы хотим получить на выходе нейронки, к какому из 10 классов относится текущая картинка.\n",
    "# Нейроны без нелинейности выдают непрерывные значения. Можно было бы, например, сделать на выход один нейрон \n",
    "# и пытаться оптимизировать его через MSE. Например, если на каритнке 3, то нейрон выдает значение в районе [2.5, 3.5).\n",
    "# Сразу понятно, что такой подход не слишком естественен (допустим, у нас есть датасет, в котором 1 и 7 не различимы,\n",
    "# получается, что оптимально всегда выдавать для них 4)\n",
    "# Вместо этого сделаем на последнем слое 10 нейронов, по одному на класс, и будем предсказывать вероятности того,\n",
    "# что на картинке определенная цифра.\n",
    "\n",
    "# Для того, чтобы обучать сеть с 10 нейронами в последнем слое, нам нужно, чтобы вектор ответов тоже имел длину 10\n",
    "# Нам нужно вот такое преобразование: 3 -> [0, 0, 0, 1, 0, 0, 0, 0, 0, 0]\n",
    "old_y_train, old_y_test = y_train, y_test\n",
    "y_train = keras.utils.to_categorical(y_train, num_classes)\n",
    "y_test = keras.utils.to_categorical(y_test, num_classes)"
   ]
  },
  {
   "cell_type": "code",
   "execution_count": null,
   "metadata": {},
   "outputs": [],
   "source": [
    "y_train.shape"
   ]
  },
  {
   "cell_type": "code",
   "execution_count": null,
   "metadata": {},
   "outputs": [],
   "source": [
    "y_train.shape"
   ]
  },
  {
   "cell_type": "code",
   "execution_count": null,
   "metadata": {},
   "outputs": [],
   "source": [
    "old_y_train[0], '->', y_train[0]"
   ]
  },
  {
   "cell_type": "code",
   "execution_count": null,
   "metadata": {},
   "outputs": [],
   "source": []
  },
  {
   "cell_type": "code",
   "execution_count": null,
   "metadata": {},
   "outputs": [],
   "source": [
    "# подготовили данные, теперь делаем саму нейронку.\n",
    "# создаем объект Sequential, который означает самую простую архитетуру, где слои следуют друг за другом\n",
    "# Делаем обычную архитектуру, где сверточные слои перемежаются с max pooling, потом делаем тензор плоским,\n",
    "# добавляем полносвязный слой, дропаут и в конце полносвязный слой с количеством нейронов, равным количеству классов.\n",
    "# В конце добавляем SoftMax, чтобы получить вероятности\n",
    "\n",
    "model = Sequential()\n",
    "model.add(Conv2D(32, kernel_size=(3, 3),\n",
    "                 activation='relu',\n",
    "                 input_shape=input_shape))\n",
    "model.add(Conv2D(64, (3, 3), activation='relu'))\n",
    "model.add(MaxPooling2D(pool_size=(2, 2)))\n",
    "model.add(Dropout(0.25))\n",
    "model.add(Flatten())\n",
    "model.add(Dense(128, activation='relu'))\n",
    "model.add(Dropout(0.5))\n",
    "model.add(Dense(num_classes, activation='softmax'))\n",
    "\n",
    "# Если бы у нас было два класса, можно было бы использовать два нейрона и категориальную кросс-энтропию, \n",
    "# или один нейрон и бинарную кроссэнтропию. Но здесь вариантов нет, так что категориальная кроссэнтропия\n",
    "\n",
    "model.compile(loss=keras.losses.categorical_crossentropy,\n",
    "              optimizer=keras.optimizers.Adam(),\n",
    "              metrics=['accuracy'])"
   ]
  },
  {
   "cell_type": "code",
   "execution_count": null,
   "metadata": {},
   "outputs": [],
   "source": [
    "import os"
   ]
  },
  {
   "cell_type": "code",
   "execution_count": null,
   "metadata": {},
   "outputs": [],
   "source": [
    "from keras.callbacks import TensorBoard"
   ]
  },
  {
   "cell_type": "code",
   "execution_count": null,
   "metadata": {},
   "outputs": [],
   "source": [
    "y_train.shape"
   ]
  },
  {
   "cell_type": "code",
   "execution_count": null,
   "metadata": {},
   "outputs": [],
   "source": [
    "x_train.shape"
   ]
  },
  {
   "cell_type": "code",
   "execution_count": null,
   "metadata": {},
   "outputs": [],
   "source": [
    "# Здесь можно было бы заняться расширением выборки (это еще называется аугментация данных).\n",
    "# О том, как это делать в keras, можно почитать вот здесь: https://keras.io/preprocessing/image/\n",
    "# Поле применения аугментации здесь довольно ограничено, т.к. мы не можем поворачивать картинки на большой угол и отражать.\n",
    "# Разные небольшие преобразования к мелкой картинке могут привести к ее размытию настолько, что она не будет похожа на цифру\n",
    "# В общем, здесь аугментации просто не будет, но для больших картинок она крайне полезна\n",
    "hist = model.fit(x_train, y_train,\n",
    "          batch_size=batch_size,\n",
    "          epochs=epochs,\n",
    "          verbose=1,\n",
    "          validation_data=(x_test, y_test))\n",
    "score = model.evaluate(x_test, y_test, verbose=0)\n",
    "print('Test loss:', score[0])\n",
    "print('Test accuracy:', score[1])"
   ]
  },
  {
   "cell_type": "code",
   "execution_count": null,
   "metadata": {},
   "outputs": [],
   "source": [
    "fig, ax = plt.subplots(1, 2, figsize=(15, 7))\n",
    "ax[0].plot(hist.history['loss'], label='loss')\n",
    "ax[0].plot(hist.history['val_loss'], label='val_loss')\n",
    "ax[0].legend()\n",
    "ax[1].plot(hist.history['acc'], label='acc')\n",
    "ax[1].plot(hist.history['val_acc'], label='val_acc')\n",
    "ax[1].legend()"
   ]
  },
  {
   "cell_type": "markdown",
   "metadata": {},
   "source": [
    "## Рекомендации\n",
    "* Участники соревнования часто выкладывают готовые варианты решения (https://www.kaggle.com/c/dog-breed-identification/kernels)\n",
    "* Когда делаете свою архитектуру, ищите вдохновение у готовых архитектур, например у VGG16 (https://github.com/fchollet/keras/blob/master/keras/applications/vgg16.py)\n",
    "* Используйте аугментации, они увеличивают обучающую выборку и делают решение более устойчивым: https://keras.io/preprocessing/image/. Основной критерий, что можно применять, а что нет, такой: если визуально кажется, что измененная картинка могла бы существовать в тесте, то все ок. Отражать по горизонтали картинки с собаками  -- правильно, отражать по горизонтали цифры -- неправильно.\n",
    "* Callbacks https://keras.io/callbacks/: \n",
    "  * Используйте ModelCheckpoint для того, чтобы автоматически сохранять наилучшие модели\n",
    "  * В kaggle-like задачах часто идет борьба за 3-4 знак после запятой. ReduceLROnPlateau позволяет уменьшать learning rate тогда, когда обучение с текущим lr останавливается"
   ]
  }
 ],
 "metadata": {
  "kernelspec": {
   "display_name": "Python 3",
   "language": "python",
   "name": "python3"
  },
  "language_info": {
   "codemirror_mode": {
    "name": "ipython",
    "version": 3
   },
   "file_extension": ".py",
   "mimetype": "text/x-python",
   "name": "python",
   "nbconvert_exporter": "python",
   "pygments_lexer": "ipython3",
   "version": "3.5.3"
  }
 },
 "nbformat": 4,
 "nbformat_minor": 2
}
